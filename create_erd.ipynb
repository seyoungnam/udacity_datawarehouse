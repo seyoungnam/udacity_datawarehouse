{
 "cells": [
  {
   "cell_type": "code",
   "execution_count": 2,
   "metadata": {
    "editable": true
   },
   "outputs": [
    {
     "name": "stdout",
     "output_type": "stream",
     "text": [
      "Collecting sqlalchemy_schemadisplay\n",
      "  Downloading https://files.pythonhosted.org/packages/ac/6a/de5911b2837278f3cf89b99b0fd94461f789b8f083537ff14ff9aa6d3397/sqlalchemy_schemadisplay-1.3.tar.gz\n",
      "Requirement already satisfied: setuptools in /opt/conda/lib/python3.6/site-packages (from sqlalchemy_schemadisplay) (38.4.0)\n",
      "Requirement already satisfied: pydot in /opt/conda/lib/python3.6/site-packages (from sqlalchemy_schemadisplay) (1.2.4)\n",
      "Requirement already satisfied: pyparsing>=2.1.4 in /opt/conda/lib/python3.6/site-packages (from pydot->sqlalchemy_schemadisplay) (2.2.0)\n",
      "Building wheels for collected packages: sqlalchemy-schemadisplay\n",
      "  Running setup.py bdist_wheel for sqlalchemy-schemadisplay ... \u001b[?25ldone\n",
      "\u001b[?25h  Stored in directory: /root/.cache/pip/wheels/e5/c5/9a/239c087da5563bfc4b2bfa5ba22a3b811dca88bcc84a587aa6\n",
      "Successfully built sqlalchemy-schemadisplay\n",
      "Installing collected packages: sqlalchemy-schemadisplay\n",
      "Successfully installed sqlalchemy-schemadisplay-1.3\n",
      "Requirement already satisfied: sqlalchemy in /opt/conda/lib/python3.6/site-packages (1.1.13)\n"
     ]
    }
   ],
   "source": [
    "!pip install sqlalchemy_schemadisplay\n",
    "!pip install sqlalchemy"
   ]
  },
  {
   "cell_type": "code",
   "execution_count": 3,
   "metadata": {
    "editable": true
   },
   "outputs": [
    {
     "name": "stdout",
     "output_type": "stream",
     "text": [
      "ERD created!\n"
     ]
    }
   ],
   "source": [
    "import configparser\n",
    "import psycopg2\n",
    "from sql_queries import create_table_queries, drop_table_queries\n",
    "from sqlalchemy_schemadisplay import create_schema_graph\n",
    "from sqlalchemy import MetaData\n",
    "\n",
    "def main():\n",
    "    config = configparser.ConfigParser()\n",
    "    config.read('dwh.cfg')\n",
    "    \n",
    "    DWH_CLUSTER_IDENTIFIER = config.get(\"DWH\",\"DWH_CLUSTER_IDENTIFIER\")\n",
    "    DWH_DB                 = config.get(\"DWH\",\"DWH_DB\")\n",
    "    DWH_DB_PASSWORD        = config.get(\"DWH\",\"DWH_DB_PASSWORD\")\n",
    "    DWH_DB_USER            = config.get(\"DWH\",\"DWH_DB_USER\")\n",
    "    HOST                   = config.get(\"CLUSTER\", \"HOST\")\n",
    "    DWH_PORT               = config.get(\"DWH\",\"DWH_PORT\")\n",
    "\n",
    "    conn = \"postgresql://{}:{}@{}:{}/{}\".format(DWH_DB_USER, DWH_DB_PASSWORD, HOST, DWH_PORT, DWH_DB)\n",
    "    graph = create_schema_graph(metadata=MetaData(conn))\n",
    "    graph.write_png('sparkifydb_erd.png')\n",
    "    print(\"ERD created!\")\n",
    "\n",
    "if __name__ == \"__main__\":\n",
    "    main()"
   ]
  },
  {
   "cell_type": "code",
   "execution_count": null,
   "metadata": {
    "editable": true
   },
   "outputs": [],
   "source": []
  }
 ],
 "metadata": {
  "kernelspec": {
   "display_name": "Python 3",
   "language": "python",
   "name": "python3"
  },
  "language_info": {
   "codemirror_mode": {
    "name": "ipython",
    "version": 3
   },
   "file_extension": ".py",
   "mimetype": "text/x-python",
   "name": "python",
   "nbconvert_exporter": "python",
   "pygments_lexer": "ipython3",
   "version": "3.6.3"
  }
 },
 "nbformat": 4,
 "nbformat_minor": 4
}
